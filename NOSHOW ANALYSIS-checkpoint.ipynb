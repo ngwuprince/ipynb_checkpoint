{
 "cells": [
  {
   "cell_type": "markdown",
   "id": "1b81a7a7",
   "metadata": {},
   "source": [
    "This report analyses a dataset of more than 110k Brazilian patients from late April to early June 2016. Data shows that in 20% of scheduled appointments, the patient didn't show up. Our goal is trying to answer the question:\n",
    "what are the factors leading to no_shows?\n",
    "Is it the system or personal attributes to blame?\n",
    "\n",
    "The report distinguishes between two groups of factors that might have significance: those related to the system, and personal attributes of the patients themselves."
   ]
  },
  {
   "cell_type": "code",
   "execution_count": 138,
   "id": "8e1d3810",
   "metadata": {},
   "outputs": [],
   "source": [
    "import numpy as np\n",
    "import pandas as pd\n",
    "import matplotlib.pyplot as plt\n",
    "import seaborn as sns\n",
    "import collections\n",
    "from datetime import datetime\n",
    "%matplotlib inline"
   ]
  },
  {
   "cell_type": "markdown",
   "id": "c2b87db8",
   "metadata": {},
   "source": [
    "# data wrangling\n",
    ">In this section, we will load in the data, check for cleanliness, and then trim and clean your dataset for analysis."
   ]
  },
  {
   "cell_type": "code",
   "execution_count": 139,
   "id": "fb8b619d",
   "metadata": {},
   "outputs": [],
   "source": [
    "# first let's load the data into a dataframe\n",
    "df = pd.read_csv('noshowappointments-kagglev2-may-2016.csv')"
   ]
  },
  {
   "cell_type": "markdown",
   "id": "a6329b1c",
   "metadata": {},
   "source": [
    "et's have a look at the first few rows of the data using ___.head():___"
   ]
  },
  {
   "cell_type": "code",
   "execution_count": 140,
   "id": "3d5be2e8",
   "metadata": {},
   "outputs": [
    {
     "data": {
      "text/html": [
       "<div>\n",
       "<style scoped>\n",
       "    .dataframe tbody tr th:only-of-type {\n",
       "        vertical-align: middle;\n",
       "    }\n",
       "\n",
       "    .dataframe tbody tr th {\n",
       "        vertical-align: top;\n",
       "    }\n",
       "\n",
       "    .dataframe thead th {\n",
       "        text-align: right;\n",
       "    }\n",
       "</style>\n",
       "<table border=\"1\" class=\"dataframe\">\n",
       "  <thead>\n",
       "    <tr style=\"text-align: right;\">\n",
       "      <th></th>\n",
       "      <th>PatientId</th>\n",
       "      <th>AppointmentID</th>\n",
       "      <th>Gender</th>\n",
       "      <th>ScheduledDay</th>\n",
       "      <th>AppointmentDay</th>\n",
       "      <th>Age</th>\n",
       "      <th>Neighbourhood</th>\n",
       "      <th>Scholarship</th>\n",
       "      <th>Hipertension</th>\n",
       "      <th>Diabetes</th>\n",
       "      <th>Alcoholism</th>\n",
       "      <th>Handcap</th>\n",
       "      <th>SMS_received</th>\n",
       "      <th>No-show</th>\n",
       "    </tr>\n",
       "  </thead>\n",
       "  <tbody>\n",
       "    <tr>\n",
       "      <th>0</th>\n",
       "      <td>2.987250e+13</td>\n",
       "      <td>5642903</td>\n",
       "      <td>F</td>\n",
       "      <td>2016-04-29T18:38:08Z</td>\n",
       "      <td>2016-04-29T00:00:00Z</td>\n",
       "      <td>62</td>\n",
       "      <td>JARDIM DA PENHA</td>\n",
       "      <td>0</td>\n",
       "      <td>1</td>\n",
       "      <td>0</td>\n",
       "      <td>0</td>\n",
       "      <td>0</td>\n",
       "      <td>0</td>\n",
       "      <td>No</td>\n",
       "    </tr>\n",
       "    <tr>\n",
       "      <th>1</th>\n",
       "      <td>5.589978e+14</td>\n",
       "      <td>5642503</td>\n",
       "      <td>M</td>\n",
       "      <td>2016-04-29T16:08:27Z</td>\n",
       "      <td>2016-04-29T00:00:00Z</td>\n",
       "      <td>56</td>\n",
       "      <td>JARDIM DA PENHA</td>\n",
       "      <td>0</td>\n",
       "      <td>0</td>\n",
       "      <td>0</td>\n",
       "      <td>0</td>\n",
       "      <td>0</td>\n",
       "      <td>0</td>\n",
       "      <td>No</td>\n",
       "    </tr>\n",
       "    <tr>\n",
       "      <th>2</th>\n",
       "      <td>4.262962e+12</td>\n",
       "      <td>5642549</td>\n",
       "      <td>F</td>\n",
       "      <td>2016-04-29T16:19:04Z</td>\n",
       "      <td>2016-04-29T00:00:00Z</td>\n",
       "      <td>62</td>\n",
       "      <td>MATA DA PRAIA</td>\n",
       "      <td>0</td>\n",
       "      <td>0</td>\n",
       "      <td>0</td>\n",
       "      <td>0</td>\n",
       "      <td>0</td>\n",
       "      <td>0</td>\n",
       "      <td>No</td>\n",
       "    </tr>\n",
       "    <tr>\n",
       "      <th>3</th>\n",
       "      <td>8.679512e+11</td>\n",
       "      <td>5642828</td>\n",
       "      <td>F</td>\n",
       "      <td>2016-04-29T17:29:31Z</td>\n",
       "      <td>2016-04-29T00:00:00Z</td>\n",
       "      <td>8</td>\n",
       "      <td>PONTAL DE CAMBURI</td>\n",
       "      <td>0</td>\n",
       "      <td>0</td>\n",
       "      <td>0</td>\n",
       "      <td>0</td>\n",
       "      <td>0</td>\n",
       "      <td>0</td>\n",
       "      <td>No</td>\n",
       "    </tr>\n",
       "    <tr>\n",
       "      <th>4</th>\n",
       "      <td>8.841186e+12</td>\n",
       "      <td>5642494</td>\n",
       "      <td>F</td>\n",
       "      <td>2016-04-29T16:07:23Z</td>\n",
       "      <td>2016-04-29T00:00:00Z</td>\n",
       "      <td>56</td>\n",
       "      <td>JARDIM DA PENHA</td>\n",
       "      <td>0</td>\n",
       "      <td>1</td>\n",
       "      <td>1</td>\n",
       "      <td>0</td>\n",
       "      <td>0</td>\n",
       "      <td>0</td>\n",
       "      <td>No</td>\n",
       "    </tr>\n",
       "  </tbody>\n",
       "</table>\n",
       "</div>"
      ],
      "text/plain": [
       "      PatientId  AppointmentID Gender          ScheduledDay  \\\n",
       "0  2.987250e+13        5642903      F  2016-04-29T18:38:08Z   \n",
       "1  5.589978e+14        5642503      M  2016-04-29T16:08:27Z   \n",
       "2  4.262962e+12        5642549      F  2016-04-29T16:19:04Z   \n",
       "3  8.679512e+11        5642828      F  2016-04-29T17:29:31Z   \n",
       "4  8.841186e+12        5642494      F  2016-04-29T16:07:23Z   \n",
       "\n",
       "         AppointmentDay  Age      Neighbourhood  Scholarship  Hipertension  \\\n",
       "0  2016-04-29T00:00:00Z   62    JARDIM DA PENHA            0             1   \n",
       "1  2016-04-29T00:00:00Z   56    JARDIM DA PENHA            0             0   \n",
       "2  2016-04-29T00:00:00Z   62      MATA DA PRAIA            0             0   \n",
       "3  2016-04-29T00:00:00Z    8  PONTAL DE CAMBURI            0             0   \n",
       "4  2016-04-29T00:00:00Z   56    JARDIM DA PENHA            0             1   \n",
       "\n",
       "   Diabetes  Alcoholism  Handcap  SMS_received No-show  \n",
       "0         0           0        0             0      No  \n",
       "1         0           0        0             0      No  \n",
       "2         0           0        0             0      No  \n",
       "3         0           0        0             0      No  \n",
       "4         1           0        0             0      No  "
      ]
     },
     "execution_count": 140,
     "metadata": {},
     "output_type": "execute_result"
    }
   ],
   "source": [
    "df.head()"
   ]
  },
  {
   "cell_type": "markdown",
   "id": "3a1500db",
   "metadata": {},
   "source": [
    "Display info about each column using **.info()** method."
   ]
  },
  {
   "cell_type": "code",
   "execution_count": 141,
   "id": "b3faf50b",
   "metadata": {},
   "outputs": [
    {
     "name": "stdout",
     "output_type": "stream",
     "text": [
      "<class 'pandas.core.frame.DataFrame'>\n",
      "RangeIndex: 110527 entries, 0 to 110526\n",
      "Data columns (total 14 columns):\n",
      " #   Column          Non-Null Count   Dtype  \n",
      "---  ------          --------------   -----  \n",
      " 0   PatientId       110527 non-null  float64\n",
      " 1   AppointmentID   110527 non-null  int64  \n",
      " 2   Gender          110527 non-null  object \n",
      " 3   ScheduledDay    110527 non-null  object \n",
      " 4   AppointmentDay  110527 non-null  object \n",
      " 5   Age             110527 non-null  int64  \n",
      " 6   Neighbourhood   110527 non-null  object \n",
      " 7   Scholarship     110527 non-null  int64  \n",
      " 8   Hipertension    110527 non-null  int64  \n",
      " 9   Diabetes        110527 non-null  int64  \n",
      " 10  Alcoholism      110527 non-null  int64  \n",
      " 11  Handcap         110527 non-null  int64  \n",
      " 12  SMS_received    110527 non-null  int64  \n",
      " 13  No-show         110527 non-null  object \n",
      "dtypes: float64(1), int64(8), object(5)\n",
      "memory usage: 11.8+ MB\n"
     ]
    }
   ],
   "source": [
    "df.info()"
   ]
  },
  {
   "cell_type": "markdown",
   "id": "4dd99262",
   "metadata": {},
   "source": [
    "We notice that we have no bools. We also notice that some columns has object dtype instead of str, this is because Pandas stores pointers to strings in dataframes and series.\n",
    "We can confirm that these objects are indeed strings with the following command:"
   ]
  },
  {
   "cell_type": "code",
   "execution_count": 142,
   "id": "09a24810",
   "metadata": {},
   "outputs": [
    {
     "data": {
      "text/plain": [
       "[str, str, str, str, str]"
      ]
     },
     "execution_count": 142,
     "metadata": {},
     "output_type": "execute_result"
    }
   ],
   "source": [
    "[type(df['Gender'][0]), type(df['ScheduledDay'][0]), type(df['AppointmentDay'][0]), type(df['Neighbourhood'][0]), type(df['No-show'][0])]"
   ]
  },
  {
   "cell_type": "markdown",
   "id": "d2b9e0c1",
   "metadata": {},
   "source": [
    "Now let's check for null and duplicated values."
   ]
  },
  {
   "cell_type": "code",
   "execution_count": 143,
   "id": "b5857baf",
   "metadata": {},
   "outputs": [
    {
     "data": {
      "text/plain": [
       "PatientId         0\n",
       "AppointmentID     0\n",
       "Gender            0\n",
       "ScheduledDay      0\n",
       "AppointmentDay    0\n",
       "Age               0\n",
       "Neighbourhood     0\n",
       "Scholarship       0\n",
       "Hipertension      0\n",
       "Diabetes          0\n",
       "Alcoholism        0\n",
       "Handcap           0\n",
       "SMS_received      0\n",
       "No-show           0\n",
       "dtype: int64"
      ]
     },
     "execution_count": 143,
     "metadata": {},
     "output_type": "execute_result"
    }
   ],
   "source": [
    "df.isnull().sum()"
   ]
  },
  {
   "cell_type": "code",
   "execution_count": 144,
   "id": "aa02b9c6",
   "metadata": {},
   "outputs": [
    {
     "data": {
      "text/plain": [
       "0"
      ]
     },
     "execution_count": 144,
     "metadata": {},
     "output_type": "execute_result"
    }
   ],
   "source": [
    "df.duplicated().sum()"
   ]
  },
  {
   "cell_type": "markdown",
   "id": "618a0491",
   "metadata": {},
   "source": [
    "We have no nulls nor duplicates, which is great."
   ]
  },
  {
   "cell_type": "markdown",
   "id": "0edbf636",
   "metadata": {},
   "source": [
    "Let's look further into the data, check unique values for each column."
   ]
  },
  {
   "cell_type": "code",
   "execution_count": 145,
   "id": "c312f48c",
   "metadata": {},
   "outputs": [
    {
     "data": {
      "text/plain": [
       "PatientId          62299\n",
       "AppointmentID     110527\n",
       "Gender                 2\n",
       "ScheduledDay      103549\n",
       "AppointmentDay        27\n",
       "Age                  104\n",
       "Neighbourhood         81\n",
       "Scholarship            2\n",
       "Hipertension           2\n",
       "Diabetes               2\n",
       "Alcoholism             2\n",
       "Handcap                5\n",
       "SMS_received           2\n",
       "No-show                2\n",
       "dtype: int64"
      ]
     },
     "execution_count": 145,
     "metadata": {},
     "output_type": "execute_result"
    }
   ],
   "source": [
    "df.nunique()"
   ]
  },
  {
   "cell_type": "markdown",
   "id": "29a7ec2c",
   "metadata": {},
   "source": [
    "We first notice that there are many Neighbourhood values in our data, this makes it less useful in our analysis.<br>\n",
    "<br>\n",
    "\n",
    "The second observation is that most columns are binary variables (categorical variables that take only two values), including our dependent variable (No-Show). This will affect our Exploratory Data Analysis, pie and bar charts will be more useful than histograms in most cases.\n",
    "<br>\n",
    "<br>\n",
    "We also notice that ___Handcap___ have 5 unique values, according to Kaggle it should be 2 (0 or 1). let's investigate that further."
   ]
  },
  {
   "cell_type": "code",
   "execution_count": 146,
   "id": "79dbc406",
   "metadata": {},
   "outputs": [],
   "source": [
    "# function to get unique values\n",
    "def unique(data):\n",
    " \n",
    "    unique = []\n",
    "     \n",
    "    for v in data:\n",
    "        if v not in unique:\n",
    "            unique.append(v)\n",
    "\n",
    "    for v in unique:\n",
    "        print(v)"
   ]
  },
  {
   "cell_type": "code",
   "execution_count": 147,
   "id": "6a2bf8d8",
   "metadata": {},
   "outputs": [
    {
     "name": "stdout",
     "output_type": "stream",
     "text": [
      "0\n",
      "1\n",
      "2\n",
      "3\n",
      "4\n"
     ]
    }
   ],
   "source": [
    "unique(df['Handcap'])"
   ]
  },
  {
   "cell_type": "markdown",
   "id": "88c1f3e0",
   "metadata": {},
   "source": [
    "__Handcap__ values ranges from 0 to 4, I can think of two reasons for that:\n",
    "\n",
    ">The system have 4 degrees of Handicaps: 1-4 , plus 0 for none.<br>\n",
    "These are input errors.\n",
    "\n",
    "\n",
    "Let's check how many strange values we have:"
   ]
  },
  {
   "cell_type": "code",
   "execution_count": 148,
   "id": "2194fa14",
   "metadata": {},
   "outputs": [
    {
     "data": {
      "text/plain": [
       "Counter({0: 108286, 1: 2042, 2: 183, 3: 13, 4: 3})"
      ]
     },
     "execution_count": 148,
     "metadata": {},
     "output_type": "execute_result"
    }
   ],
   "source": [
    "collections.Counter(df['Handcap'])"
   ]
  },
  {
   "cell_type": "markdown",
   "id": "0bbf2b4c",
   "metadata": {},
   "source": [
    "The number of values of 2 or more are very few (less than 200 values), so they're probably input errors.\n",
    "\n",
    "Finally, let's review some descriptive statistics of our data:"
   ]
  },
  {
   "cell_type": "code",
   "execution_count": 149,
   "id": "2267e890",
   "metadata": {},
   "outputs": [
    {
     "data": {
      "text/html": [
       "<div>\n",
       "<style scoped>\n",
       "    .dataframe tbody tr th:only-of-type {\n",
       "        vertical-align: middle;\n",
       "    }\n",
       "\n",
       "    .dataframe tbody tr th {\n",
       "        vertical-align: top;\n",
       "    }\n",
       "\n",
       "    .dataframe thead th {\n",
       "        text-align: right;\n",
       "    }\n",
       "</style>\n",
       "<table border=\"1\" class=\"dataframe\">\n",
       "  <thead>\n",
       "    <tr style=\"text-align: right;\">\n",
       "      <th></th>\n",
       "      <th>PatientId</th>\n",
       "      <th>AppointmentID</th>\n",
       "      <th>Age</th>\n",
       "      <th>Scholarship</th>\n",
       "      <th>Hipertension</th>\n",
       "      <th>Diabetes</th>\n",
       "      <th>Alcoholism</th>\n",
       "      <th>Handcap</th>\n",
       "      <th>SMS_received</th>\n",
       "    </tr>\n",
       "  </thead>\n",
       "  <tbody>\n",
       "    <tr>\n",
       "      <th>count</th>\n",
       "      <td>1.105270e+05</td>\n",
       "      <td>1.105270e+05</td>\n",
       "      <td>110527.000000</td>\n",
       "      <td>110527.000000</td>\n",
       "      <td>110527.000000</td>\n",
       "      <td>110527.000000</td>\n",
       "      <td>110527.000000</td>\n",
       "      <td>110527.000000</td>\n",
       "      <td>110527.000000</td>\n",
       "    </tr>\n",
       "    <tr>\n",
       "      <th>mean</th>\n",
       "      <td>1.474963e+14</td>\n",
       "      <td>5.675305e+06</td>\n",
       "      <td>37.088874</td>\n",
       "      <td>0.098266</td>\n",
       "      <td>0.197246</td>\n",
       "      <td>0.071865</td>\n",
       "      <td>0.030400</td>\n",
       "      <td>0.022248</td>\n",
       "      <td>0.321026</td>\n",
       "    </tr>\n",
       "    <tr>\n",
       "      <th>std</th>\n",
       "      <td>2.560949e+14</td>\n",
       "      <td>7.129575e+04</td>\n",
       "      <td>23.110205</td>\n",
       "      <td>0.297675</td>\n",
       "      <td>0.397921</td>\n",
       "      <td>0.258265</td>\n",
       "      <td>0.171686</td>\n",
       "      <td>0.161543</td>\n",
       "      <td>0.466873</td>\n",
       "    </tr>\n",
       "    <tr>\n",
       "      <th>min</th>\n",
       "      <td>3.921784e+04</td>\n",
       "      <td>5.030230e+06</td>\n",
       "      <td>-1.000000</td>\n",
       "      <td>0.000000</td>\n",
       "      <td>0.000000</td>\n",
       "      <td>0.000000</td>\n",
       "      <td>0.000000</td>\n",
       "      <td>0.000000</td>\n",
       "      <td>0.000000</td>\n",
       "    </tr>\n",
       "    <tr>\n",
       "      <th>25%</th>\n",
       "      <td>4.172614e+12</td>\n",
       "      <td>5.640286e+06</td>\n",
       "      <td>18.000000</td>\n",
       "      <td>0.000000</td>\n",
       "      <td>0.000000</td>\n",
       "      <td>0.000000</td>\n",
       "      <td>0.000000</td>\n",
       "      <td>0.000000</td>\n",
       "      <td>0.000000</td>\n",
       "    </tr>\n",
       "    <tr>\n",
       "      <th>50%</th>\n",
       "      <td>3.173184e+13</td>\n",
       "      <td>5.680573e+06</td>\n",
       "      <td>37.000000</td>\n",
       "      <td>0.000000</td>\n",
       "      <td>0.000000</td>\n",
       "      <td>0.000000</td>\n",
       "      <td>0.000000</td>\n",
       "      <td>0.000000</td>\n",
       "      <td>0.000000</td>\n",
       "    </tr>\n",
       "    <tr>\n",
       "      <th>75%</th>\n",
       "      <td>9.439172e+13</td>\n",
       "      <td>5.725524e+06</td>\n",
       "      <td>55.000000</td>\n",
       "      <td>0.000000</td>\n",
       "      <td>0.000000</td>\n",
       "      <td>0.000000</td>\n",
       "      <td>0.000000</td>\n",
       "      <td>0.000000</td>\n",
       "      <td>1.000000</td>\n",
       "    </tr>\n",
       "    <tr>\n",
       "      <th>max</th>\n",
       "      <td>9.999816e+14</td>\n",
       "      <td>5.790484e+06</td>\n",
       "      <td>115.000000</td>\n",
       "      <td>1.000000</td>\n",
       "      <td>1.000000</td>\n",
       "      <td>1.000000</td>\n",
       "      <td>1.000000</td>\n",
       "      <td>4.000000</td>\n",
       "      <td>1.000000</td>\n",
       "    </tr>\n",
       "  </tbody>\n",
       "</table>\n",
       "</div>"
      ],
      "text/plain": [
       "          PatientId  AppointmentID            Age    Scholarship  \\\n",
       "count  1.105270e+05   1.105270e+05  110527.000000  110527.000000   \n",
       "mean   1.474963e+14   5.675305e+06      37.088874       0.098266   \n",
       "std    2.560949e+14   7.129575e+04      23.110205       0.297675   \n",
       "min    3.921784e+04   5.030230e+06      -1.000000       0.000000   \n",
       "25%    4.172614e+12   5.640286e+06      18.000000       0.000000   \n",
       "50%    3.173184e+13   5.680573e+06      37.000000       0.000000   \n",
       "75%    9.439172e+13   5.725524e+06      55.000000       0.000000   \n",
       "max    9.999816e+14   5.790484e+06     115.000000       1.000000   \n",
       "\n",
       "        Hipertension       Diabetes     Alcoholism        Handcap  \\\n",
       "count  110527.000000  110527.000000  110527.000000  110527.000000   \n",
       "mean        0.197246       0.071865       0.030400       0.022248   \n",
       "std         0.397921       0.258265       0.171686       0.161543   \n",
       "min         0.000000       0.000000       0.000000       0.000000   \n",
       "25%         0.000000       0.000000       0.000000       0.000000   \n",
       "50%         0.000000       0.000000       0.000000       0.000000   \n",
       "75%         0.000000       0.000000       0.000000       0.000000   \n",
       "max         1.000000       1.000000       1.000000       4.000000   \n",
       "\n",
       "        SMS_received  \n",
       "count  110527.000000  \n",
       "mean        0.321026  \n",
       "std         0.466873  \n",
       "min         0.000000  \n",
       "25%         0.000000  \n",
       "50%         0.000000  \n",
       "75%         1.000000  \n",
       "max         1.000000  "
      ]
     },
     "execution_count": 149,
     "metadata": {},
     "output_type": "execute_result"
    }
   ],
   "source": [
    "df.describe()"
   ]
  },
  {
   "cell_type": "markdown",
   "id": "46882f69",
   "metadata": {},
   "source": [
    "Why is the minimum value of 'Age' is -1? this is an input error. Let's investigate:"
   ]
  },
  {
   "cell_type": "code",
   "execution_count": 150,
   "id": "15972e4f",
   "metadata": {},
   "outputs": [
    {
     "data": {
      "text/plain": [
       "Counter({False: 110526, True: 1})"
      ]
     },
     "execution_count": 150,
     "metadata": {},
     "output_type": "execute_result"
    }
   ],
   "source": [
    "collections.Counter(df['Age']<0)"
   ]
  },
  {
   "cell_type": "markdown",
   "id": "873555b7",
   "metadata": {},
   "source": [
    "We have only one input error in 'Age' column."
   ]
  },
  {
   "cell_type": "markdown",
   "id": "df5e505a",
   "metadata": {},
   "source": [
    "# Data cleaning"
   ]
  },
  {
   "cell_type": "markdown",
   "id": "2898ebdd",
   "metadata": {},
   "source": [
    "Let's start by cleaning input errors in 'Handcap' and 'Age' columns.\n",
    "\n",
    "'Age' has only one input error of -1, we will replace it with 0:"
   ]
  },
  {
   "cell_type": "code",
   "execution_count": 151,
   "id": "a469a859",
   "metadata": {},
   "outputs": [
    {
     "data": {
      "text/plain": [
       "Counter({False: 110527})"
      ]
     },
     "execution_count": 151,
     "metadata": {},
     "output_type": "execute_result"
    }
   ],
   "source": [
    "df.Age.replace(to_replace=-1, value=0, inplace=True, limit=None, regex=False, method='pad')\n",
    "collections.Counter(df['Age']<0)"
   ]
  },
  {
   "cell_type": "markdown",
   "id": "8606f243",
   "metadata": {},
   "source": [
    "Now for 'Handcap', since 1 stands for handicaps = True, these positive errors are most likely should have been 1. Although changing these inputs to 1 will increase the number of people in this category by 10%; they still represent very a small percentage of the whole dataset (2%), so this will probably have little effect."
   ]
  },
  {
   "cell_type": "code",
   "execution_count": 152,
   "id": "02febfab",
   "metadata": {},
   "outputs": [
    {
     "data": {
      "text/plain": [
       "Counter({0: 108471, 1: 2056})"
      ]
     },
     "execution_count": 152,
     "metadata": {},
     "output_type": "execute_result"
    }
   ],
   "source": [
    "df.Handcap.replace(to_replace=[2, 3, 4], value=1, inplace=True, limit=None, regex=False, method='pad')\n",
    "collections.Counter(df['Handcap'])"
   ]
  },
  {
   "cell_type": "markdown",
   "id": "181eda74",
   "metadata": {},
   "source": [
    "Before continuing our cleaning, we need to think about what we need from the dataset. The report explores 'No-show' as a dependent variable. As for my choices of the independent variables, there are two groups:\n",
    "\n",
    "1. Variables related to the system: (Scholarship, SMS_received, if ScheduledDay == AppointmentDay).\n",
    "2. Variables related to the patient: (Age, Gender, Medical conditions).\n",
    "\n",
    ">This requires creating a new variable to check if ScheduledDay == AppointmentDay. We can use datetime library, but since both 'ScheduledDay' and 'AppointmentDay' columns are in ISO 8601 standard format, it's much simpler to use string slicing."
   ]
  },
  {
   "cell_type": "code",
   "execution_count": 153,
   "id": "4acf3831",
   "metadata": {},
   "outputs": [
    {
     "data": {
      "text/plain": [
       "[('2016-04-29T18:38:08Z', '2016-04-29T00:00:00Z'),\n",
       " ('2016-04-29T16:08:27Z', '2016-04-29T00:00:00Z'),\n",
       " ('2016-04-29T16:19:04Z', '2016-04-29T00:00:00Z'),\n",
       " ('2016-04-29T17:29:31Z', '2016-04-29T00:00:00Z'),\n",
       " ('2016-04-29T16:07:23Z', '2016-04-29T00:00:00Z'),\n",
       " ('2016-04-27T08:36:51Z', '2016-04-29T00:00:00Z'),\n",
       " ('2016-04-27T15:05:12Z', '2016-04-29T00:00:00Z'),\n",
       " ('2016-04-27T15:39:58Z', '2016-04-29T00:00:00Z'),\n",
       " ('2016-04-29T08:02:16Z', '2016-04-29T00:00:00Z'),\n",
       " ('2016-04-27T12:48:25Z', '2016-04-29T00:00:00Z')]"
      ]
     },
     "execution_count": 153,
     "metadata": {},
     "output_type": "execute_result"
    }
   ],
   "source": [
    "# this is how to create a new list of ScheduledDay == AppointmentDay bool\n",
    "# first, create lists of ScheduledDay and AppointmentDay series\n",
    "ScheduledDay = list(df['ScheduledDay'])\n",
    "AppointmentDay = list(df['AppointmentDay'])\n",
    "\n",
    "# next, create a combined list of them\n",
    "dates = list(zip(ScheduledDay, AppointmentDay))\n",
    "dates[:10]"
   ]
  },
  {
   "cell_type": "markdown",
   "id": "a42b1d0f",
   "metadata": {},
   "source": [
    "Now we create a list of our desired bool"
   ]
  },
  {
   "cell_type": "code",
   "execution_count": 154,
   "id": "4af663f8",
   "metadata": {},
   "outputs": [
    {
     "data": {
      "text/plain": [
       "[True, True, True, True, True, False, False, False, True, False]"
      ]
     },
     "execution_count": 154,
     "metadata": {},
     "output_type": "execute_result"
    }
   ],
   "source": [
    "same_test = []\n",
    "for sday, aday in dates:\n",
    "    same = sday[5:10] == aday[5:10]\n",
    "    same_test.append(same)\n",
    "same_test[:10]"
   ]
  },
  {
   "cell_type": "markdown",
   "id": "56deceff",
   "metadata": {},
   "source": [
    "let's convert same_test values to 1 or 0 to be consistent with the data."
   ]
  },
  {
   "cell_type": "code",
   "execution_count": 155,
   "id": "980ff4b7",
   "metadata": {},
   "outputs": [
    {
     "data": {
      "text/plain": [
       "[1, 1, 1, 1, 1, 0, 0, 0, 1, 0]"
      ]
     },
     "execution_count": 155,
     "metadata": {},
     "output_type": "execute_result"
    }
   ],
   "source": [
    "sameday = []\n",
    "for v in same_test:\n",
    "    if v == True:\n",
    "        v = 1\n",
    "    else:\n",
    "        v = 0\n",
    "    sameday.append(v)\n",
    "sameday[:10]"
   ]
  },
  {
   "cell_type": "code",
   "execution_count": 156,
   "id": "ef18981e",
   "metadata": {},
   "outputs": [
    {
     "data": {
      "text/plain": [
       "0         1\n",
       "1         1\n",
       "2         1\n",
       "3         1\n",
       "4         1\n",
       "         ..\n",
       "110522    0\n",
       "110523    0\n",
       "110524    0\n",
       "110525    0\n",
       "110526    0\n",
       "Name: SameDay, Length: 110527, dtype: int32"
      ]
     },
     "execution_count": 156,
     "metadata": {},
     "output_type": "execute_result"
    }
   ],
   "source": [
    "sameday = np.array(sameday)\n",
    "df['SameDay'] = sameday\n",
    "df['SameDay']"
   ]
  },
  {
   "cell_type": "markdown",
   "id": "9af01cc5",
   "metadata": {},
   "source": [
    "We will drop all columns that we don't need."
   ]
  },
  {
   "cell_type": "code",
   "execution_count": 157,
   "id": "1cd948f6",
   "metadata": {},
   "outputs": [],
   "source": [
    "df.drop(['PatientId', 'AppointmentID', 'ScheduledDay', 'AppointmentDay','Neighbourhood'], axis=1, inplace=True)"
   ]
  },
  {
   "cell_type": "markdown",
   "id": "72f02fa6",
   "metadata": {},
   "source": [
    "No-show is a bad name to a variable, let's change that. We will also change columns to lowercase."
   ]
  },
  {
   "cell_type": "code",
   "execution_count": 158,
   "id": "aeeb2366",
   "metadata": {},
   "outputs": [],
   "source": [
    "df.rename(columns={'No-show':'Noshow'}, inplace=True)\n",
    "df= df.rename(columns=str.lower)"
   ]
  },
  {
   "cell_type": "markdown",
   "id": "432ac17f",
   "metadata": {},
   "source": [
    "Now, let's rearrange the columns:"
   ]
  },
  {
   "cell_type": "code",
   "execution_count": 159,
   "id": "9ca13829",
   "metadata": {},
   "outputs": [
    {
     "data": {
      "text/plain": [
       "['gender',\n",
       " 'age',\n",
       " 'scholarship',\n",
       " 'hipertension',\n",
       " 'diabetes',\n",
       " 'alcoholism',\n",
       " 'handcap',\n",
       " 'sms_received',\n",
       " 'noshow',\n",
       " 'sameday']"
      ]
     },
     "execution_count": 159,
     "metadata": {},
     "output_type": "execute_result"
    }
   ],
   "source": [
    "cols = df.columns.tolist()\n",
    "cols"
   ]
  },
  {
   "cell_type": "code",
   "execution_count": 160,
   "id": "f3d8796f",
   "metadata": {},
   "outputs": [
    {
     "data": {
      "text/html": [
       "<div>\n",
       "<style scoped>\n",
       "    .dataframe tbody tr th:only-of-type {\n",
       "        vertical-align: middle;\n",
       "    }\n",
       "\n",
       "    .dataframe tbody tr th {\n",
       "        vertical-align: top;\n",
       "    }\n",
       "\n",
       "    .dataframe thead th {\n",
       "        text-align: right;\n",
       "    }\n",
       "</style>\n",
       "<table border=\"1\" class=\"dataframe\">\n",
       "  <thead>\n",
       "    <tr style=\"text-align: right;\">\n",
       "      <th></th>\n",
       "      <th>noshow</th>\n",
       "      <th>gender</th>\n",
       "      <th>age</th>\n",
       "      <th>hipertension</th>\n",
       "      <th>diabetes</th>\n",
       "      <th>alcoholism</th>\n",
       "      <th>handcap</th>\n",
       "      <th>scholarship</th>\n",
       "      <th>sms_received</th>\n",
       "      <th>sameday</th>\n",
       "    </tr>\n",
       "  </thead>\n",
       "  <tbody>\n",
       "    <tr>\n",
       "      <th>0</th>\n",
       "      <td>No</td>\n",
       "      <td>F</td>\n",
       "      <td>62</td>\n",
       "      <td>1</td>\n",
       "      <td>0</td>\n",
       "      <td>0</td>\n",
       "      <td>0</td>\n",
       "      <td>0</td>\n",
       "      <td>0</td>\n",
       "      <td>1</td>\n",
       "    </tr>\n",
       "    <tr>\n",
       "      <th>1</th>\n",
       "      <td>No</td>\n",
       "      <td>M</td>\n",
       "      <td>56</td>\n",
       "      <td>0</td>\n",
       "      <td>0</td>\n",
       "      <td>0</td>\n",
       "      <td>0</td>\n",
       "      <td>0</td>\n",
       "      <td>0</td>\n",
       "      <td>1</td>\n",
       "    </tr>\n",
       "    <tr>\n",
       "      <th>2</th>\n",
       "      <td>No</td>\n",
       "      <td>F</td>\n",
       "      <td>62</td>\n",
       "      <td>0</td>\n",
       "      <td>0</td>\n",
       "      <td>0</td>\n",
       "      <td>0</td>\n",
       "      <td>0</td>\n",
       "      <td>0</td>\n",
       "      <td>1</td>\n",
       "    </tr>\n",
       "    <tr>\n",
       "      <th>3</th>\n",
       "      <td>No</td>\n",
       "      <td>F</td>\n",
       "      <td>8</td>\n",
       "      <td>0</td>\n",
       "      <td>0</td>\n",
       "      <td>0</td>\n",
       "      <td>0</td>\n",
       "      <td>0</td>\n",
       "      <td>0</td>\n",
       "      <td>1</td>\n",
       "    </tr>\n",
       "    <tr>\n",
       "      <th>4</th>\n",
       "      <td>No</td>\n",
       "      <td>F</td>\n",
       "      <td>56</td>\n",
       "      <td>1</td>\n",
       "      <td>1</td>\n",
       "      <td>0</td>\n",
       "      <td>0</td>\n",
       "      <td>0</td>\n",
       "      <td>0</td>\n",
       "      <td>1</td>\n",
       "    </tr>\n",
       "  </tbody>\n",
       "</table>\n",
       "</div>"
      ],
      "text/plain": [
       "  noshow gender  age  hipertension  diabetes  alcoholism  handcap  \\\n",
       "0     No      F   62             1         0           0        0   \n",
       "1     No      M   56             0         0           0        0   \n",
       "2     No      F   62             0         0           0        0   \n",
       "3     No      F    8             0         0           0        0   \n",
       "4     No      F   56             1         1           0        0   \n",
       "\n",
       "   scholarship  sms_received  sameday  \n",
       "0            0             0        1  \n",
       "1            0             0        1  \n",
       "2            0             0        1  \n",
       "3            0             0        1  \n",
       "4            0             0        1  "
      ]
     },
     "execution_count": 160,
     "metadata": {},
     "output_type": "execute_result"
    }
   ],
   "source": [
    "cols = ['noshow', 'gender', 'age', 'hipertension', 'diabetes', 'alcoholism', 'handcap',\n",
    " 'scholarship', 'sms_received','sameday']\n",
    "df = df[cols]\n",
    "df.head()"
   ]
  },
  {
   "cell_type": "markdown",
   "id": "c6c4f400",
   "metadata": {},
   "source": [
    "Finally, let's convert noshow and gender to dummy variables (change values to 0 and 1) so we can calculate the correlation coefficients."
   ]
  },
  {
   "cell_type": "code",
   "execution_count": 161,
   "id": "de164dfd",
   "metadata": {},
   "outputs": [],
   "source": [
    "df.noshow.replace(to_replace=['No', 'Yes'], value=[0, 1], inplace=True)\n",
    "df.gender.replace(to_replace=['F', 'M'], value=[0, 1], inplace=True)"
   ]
  },
  {
   "cell_type": "markdown",
   "id": "955622c8",
   "metadata": {},
   "source": [
    "This is our cleaned DataFrame:"
   ]
  },
  {
   "cell_type": "code",
   "execution_count": 162,
   "id": "509701d2",
   "metadata": {},
   "outputs": [
    {
     "data": {
      "text/html": [
       "<div>\n",
       "<style scoped>\n",
       "    .dataframe tbody tr th:only-of-type {\n",
       "        vertical-align: middle;\n",
       "    }\n",
       "\n",
       "    .dataframe tbody tr th {\n",
       "        vertical-align: top;\n",
       "    }\n",
       "\n",
       "    .dataframe thead th {\n",
       "        text-align: right;\n",
       "    }\n",
       "</style>\n",
       "<table border=\"1\" class=\"dataframe\">\n",
       "  <thead>\n",
       "    <tr style=\"text-align: right;\">\n",
       "      <th></th>\n",
       "      <th>noshow</th>\n",
       "      <th>gender</th>\n",
       "      <th>age</th>\n",
       "      <th>hipertension</th>\n",
       "      <th>diabetes</th>\n",
       "      <th>alcoholism</th>\n",
       "      <th>handcap</th>\n",
       "      <th>scholarship</th>\n",
       "      <th>sms_received</th>\n",
       "      <th>sameday</th>\n",
       "    </tr>\n",
       "  </thead>\n",
       "  <tbody>\n",
       "    <tr>\n",
       "      <th>0</th>\n",
       "      <td>0</td>\n",
       "      <td>0</td>\n",
       "      <td>62</td>\n",
       "      <td>1</td>\n",
       "      <td>0</td>\n",
       "      <td>0</td>\n",
       "      <td>0</td>\n",
       "      <td>0</td>\n",
       "      <td>0</td>\n",
       "      <td>1</td>\n",
       "    </tr>\n",
       "    <tr>\n",
       "      <th>1</th>\n",
       "      <td>0</td>\n",
       "      <td>1</td>\n",
       "      <td>56</td>\n",
       "      <td>0</td>\n",
       "      <td>0</td>\n",
       "      <td>0</td>\n",
       "      <td>0</td>\n",
       "      <td>0</td>\n",
       "      <td>0</td>\n",
       "      <td>1</td>\n",
       "    </tr>\n",
       "    <tr>\n",
       "      <th>2</th>\n",
       "      <td>0</td>\n",
       "      <td>0</td>\n",
       "      <td>62</td>\n",
       "      <td>0</td>\n",
       "      <td>0</td>\n",
       "      <td>0</td>\n",
       "      <td>0</td>\n",
       "      <td>0</td>\n",
       "      <td>0</td>\n",
       "      <td>1</td>\n",
       "    </tr>\n",
       "    <tr>\n",
       "      <th>3</th>\n",
       "      <td>0</td>\n",
       "      <td>0</td>\n",
       "      <td>8</td>\n",
       "      <td>0</td>\n",
       "      <td>0</td>\n",
       "      <td>0</td>\n",
       "      <td>0</td>\n",
       "      <td>0</td>\n",
       "      <td>0</td>\n",
       "      <td>1</td>\n",
       "    </tr>\n",
       "    <tr>\n",
       "      <th>4</th>\n",
       "      <td>0</td>\n",
       "      <td>0</td>\n",
       "      <td>56</td>\n",
       "      <td>1</td>\n",
       "      <td>1</td>\n",
       "      <td>0</td>\n",
       "      <td>0</td>\n",
       "      <td>0</td>\n",
       "      <td>0</td>\n",
       "      <td>1</td>\n",
       "    </tr>\n",
       "  </tbody>\n",
       "</table>\n",
       "</div>"
      ],
      "text/plain": [
       "   noshow  gender  age  hipertension  diabetes  alcoholism  handcap  \\\n",
       "0       0       0   62             1         0           0        0   \n",
       "1       0       1   56             0         0           0        0   \n",
       "2       0       0   62             0         0           0        0   \n",
       "3       0       0    8             0         0           0        0   \n",
       "4       0       0   56             1         1           0        0   \n",
       "\n",
       "   scholarship  sms_received  sameday  \n",
       "0            0             0        1  \n",
       "1            0             0        1  \n",
       "2            0             0        1  \n",
       "3            0             0        1  \n",
       "4            0             0        1  "
      ]
     },
     "execution_count": 162,
     "metadata": {},
     "output_type": "execute_result"
    }
   ],
   "source": [
    "df.head()"
   ]
  },
  {
   "cell_type": "markdown",
   "id": "0b59a2be",
   "metadata": {},
   "source": [
    "# Exploration Data Analysis\n",
    "\n",
    ">Now that we've trimmed and cleaned the data, we're ready to move on to exploration. Compute statistics and create visualizations with the goal of addressing the research questions.\n",
    "\n",
    ">It's important to note that this analysis focus is on the correlation between our variables. This is not enough to assume there is a causal relation between. Further studies using inferential statistics is required for that.\n",
    "\n",
    "The main problem that this report discuss is the high rate of no_show patient in the Brazilian healthcare system. Let's explore our dependent variable noshow.\n",
    "\n",
    "First, let's create masks according to noshow values"
   ]
  },
  {
   "cell_type": "code",
   "execution_count": 163,
   "id": "ad4a5db0",
   "metadata": {},
   "outputs": [],
   "source": [
    "miss = df.noshow == 1\n",
    "show = df.noshow == 0"
   ]
  },
  {
   "cell_type": "markdown",
   "id": "fa04cb9c",
   "metadata": {},
   "source": [
    "Explore noshow variable with a pie chart using matplotlib"
   ]
  },
  {
   "cell_type": "code",
   "execution_count": 164,
   "id": "017fa993",
   "metadata": {},
   "outputs": [
    {
     "data": {
      "image/png": "[encoded data removed]",
      "text/plain": [
       "<Figure size 432x288 with 1 Axes>"
      ]
     },
     "metadata": {},
     "output_type": "display_data"
    }
   ],
   "source": [
    "# plotting the pie chart\n",
    "plt.pie(df['noshow'].value_counts(), labels = ['No', 'Yes'], colors=['tab:blue', 'tab:red'], \n",
    "        startangle=270, shadow = True, explode = (0, 0.1),\n",
    "        radius = 1.0, autopct = '%1.1f%%')\n",
    "# plot title\n",
    "plt.title('Missed the Appointment?', fontweight=\"bold\")\n",
    "# showing the plot\n",
    "plt.show()"
   ]
  },
  {
   "cell_type": "markdown",
   "id": "2742a05f",
   "metadata": {},
   "source": [
    "More than 20% of scheduled appointments had no_shows, why?\n",
    "\n",
    "Let's start to check the correlation matrix:"
   ]
  },
  {
   "cell_type": "code",
   "execution_count": 165,
   "id": "fb6edd36",
   "metadata": {},
   "outputs": [
    {
     "data": {
      "image/png": "[encoded data removed]",
      "text/plain": [
       "<Figure size 720x432 with 2 Axes>"
      ]
     },
     "metadata": {},
     "output_type": "display_data"
    }
   ],
   "source": [
    "corrMatrix = df.corr()\n",
    "sns.set(rc={'figure.figsize':(10,6)})\n",
    "sns.heatmap(corrMatrix, annot=True)\n",
    "plt.show()"
   ]
  },
  {
   "cell_type": "markdown",
   "id": "206a66e7",
   "metadata": {},
   "source": [
    "Now to our questions."
   ]
  },
  {
   "cell_type": "markdown",
   "id": "7bc9153d",
   "metadata": {},
   "source": [
    "### Research Question 1 Is the System Responsible for the High Rate of No-Shows\n",
    "\n",
    "We will investigate three variables: __scholarship, sms_received and sameday\n",
    "\n",
    "1. Scholarship (Bolsa Família)\n",
    "\n",
    "Bolsa Família is a social welfare program of the Government of Brazil. It provides financial aid to poor Brazilian families.\n",
    "\n",
    "scholarship = 1 for patients who receive funds from this program.\n",
    "This totals to 9.8% of the dataset as shown in the pie chart below:"
   ]
  },
  {
   "cell_type": "code",
   "execution_count": 166,
   "id": "49689a6e",
   "metadata": {},
   "outputs": [
    {
     "data": {
      "image/png": "[encoded data removed]",
      "text/plain": [
       "<Figure size 432x288 with 1 Axes>"
      ]
     },
     "metadata": {},
     "output_type": "display_data"
    }
   ],
   "source": [
    "# first line resets seaborn charts to original size\n",
    "sns.reset_orig()\n",
    "\n",
    "plt.pie(df['scholarship'].value_counts(), labels = ['No', 'Yes'], colors=['tab:red', 'tab:green'], \n",
    "        startangle=0, shadow = True, explode = (0, 0.1),\n",
    "        radius = 1.0, autopct = '%1.1f%%')\n",
    "\n",
    "plt.title('Bolsa Família Beneficiary?', fontweight=\"bold\")\n",
    "\n",
    "plt.show()"
   ]
  },
  {
   "cell_type": "markdown",
   "id": "56907914",
   "metadata": {},
   "source": [
    "The correlation coefficient between scholarship and noshow is very low __0.029__. We can't notice differences in the no_show rate between those who benefit from 'Bolsa Família' and those who don't."
   ]
  },
  {
   "cell_type": "code",
   "execution_count": 167,
   "id": "28d1460a",
   "metadata": {},
   "outputs": [
    {
     "data": {
      "image/png": "[encoded data removed]",
      "text/plain": [
       "<Figure size 432x288 with 1 Axes>"
      ]
     },
     "metadata": {
      "needs_background": "light"
     },
     "output_type": "display_data"
    }
   ],
   "source": [
    "ax = sns.countplot(x=\"scholarship\", hue=\"noshow\", data=df)\n",
    "ax.set(title='Bolsa Família and Missed Appointments')\n",
    "plt.xticks([0, 1], ['Not Covered', 'Covered'])\n",
    "ax.set_xlabel('Bolsa Família')\n",
    "L=plt.legend()\n",
    "L.get_texts()[0].set_text('Attended')\n",
    "L.get_texts()[1].set_text('Missed')\n",
    "plt.show()"
   ]
  },
  {
   "cell_type": "markdown",
   "id": "09cc9af6",
   "metadata": {},
   "source": [
    "2. __SMS_Received__ <br>\n",
    "\n",
    "\n",
    "Does sending SMS reminders to a patient decrease the chance of no_show? 32.1% of our dataset received an SMS as shown here:"
   ]
  },
  {
   "cell_type": "code",
   "execution_count": 168,
   "id": "f9983f7d",
   "metadata": {},
   "outputs": [
    {
     "data": {
      "image/png": "[encoded data removed]",
      "text/plain": [
       "<Figure size 432x288 with 1 Axes>"
      ]
     },
     "metadata": {},
     "output_type": "display_data"
    }
   ],
   "source": [
    "plt.pie(df['sms_received'].value_counts(), labels = ['No', 'Yes'], colors=['tab:purple', 'tab:pink'], \n",
    "        startangle=30, shadow = True, explode = (0, 0.1),\n",
    "        radius = 1.0, autopct = '%1.1f%%')\n",
    "\n",
    "plt.title('Received SMS?', fontweight=\"bold\")\n",
    "    \n",
    "plt.show()"
   ]
  },
  {
   "cell_type": "markdown",
   "id": "1a115b46",
   "metadata": {},
   "source": [
    "There is a very weak positive correlation between noshow and sms_received"
   ]
  },
  {
   "cell_type": "code",
   "execution_count": 169,
   "id": "e80a762f",
   "metadata": {},
   "outputs": [
    {
     "data": {
      "text/plain": [
       "0.12643065757314462"
      ]
     },
     "execution_count": 169,
     "metadata": {},
     "output_type": "execute_result"
    }
   ],
   "source": [
    "df['noshow'].corr(df['sms_received'])"
   ]
  },
  {
   "cell_type": "markdown",
   "id": "b222cb37",
   "metadata": {},
   "source": [
    "Since __noshow = 1__ in the case of no_show. This means there is a slight higher chance of no_show for those who received an SMS."
   ]
  },
  {
   "cell_type": "code",
   "execution_count": 170,
   "id": "8731e24d",
   "metadata": {},
   "outputs": [
    {
     "data": {
      "image/png": "[encoded data removed]",
      "text/plain": [
       "<Figure size 432x288 with 1 Axes>"
      ]
     },
     "metadata": {
      "needs_background": "light"
     },
     "output_type": "display_data"
    }
   ],
   "source": [
    "ax = sns.countplot(x=\"sms_received\", hue=\"noshow\", data=df)\n",
    "ax.set(title='SMS Notifications and Missed Appointments')\n",
    "plt.xticks([0, 1], ['No SMS', 'Received SMS'])\n",
    "ax.set_xlabel('SMS Received')\n",
    "L=plt.legend()\n",
    "L.get_texts()[0].set_text('Attended')\n",
    "L.get_texts()[1].set_text('Missed')\n",
    "plt.show()"
   ]
  },
  {
   "cell_type": "markdown",
   "id": "20cbdf86",
   "metadata": {},
   "source": [
    "3. __Scheduled for the Same Day__\n",
    "\n",
    "\n",
    "If the patients got their appointment at the same day of booking, will that make them less likley to miss?\n",
    "34.9% got their appointment on the same day."
   ]
  },
  {
   "cell_type": "code",
   "execution_count": 171,
   "id": "276f9bd0",
   "metadata": {},
   "outputs": [
    {
     "data": {
      "image/png": "[encoded data removed]",
      "text/plain": [
       "<Figure size 432x288 with 1 Axes>"
      ]
     },
     "metadata": {},
     "output_type": "display_data"
    }
   ],
   "source": [
    "plt.pie(df['sameday'].value_counts(), labels = ['No', 'Yes'], colors=['tab:orange', 'tab:blue'], \n",
    "        startangle=30, shadow = True, explode = (0, 0.1),\n",
    "        radius = 1.0, autopct = '%1.1f%%')\n",
    "  \n",
    "plt.title('Scheduled on the Same Day?', fontweight=\"bold\")\n",
    "     \n",
    "plt.show()"
   ]
  },
  {
   "cell_type": "markdown",
   "id": "3b7c03e7",
   "metadata": {},
   "source": [
    "There is a negative correlation between noshow and sameday"
   ]
  },
  {
   "cell_type": "code",
   "execution_count": 172,
   "id": "d3390d93",
   "metadata": {},
   "outputs": [
    {
     "data": {
      "text/plain": [
       "-0.2834864064340587"
      ]
     },
     "execution_count": 172,
     "metadata": {},
     "output_type": "execute_result"
    }
   ],
   "source": [
    "df['noshow'].corr(df['sameday'])"
   ]
  },
  {
   "cell_type": "markdown",
   "id": "217db758",
   "metadata": {},
   "source": [
    "Though the correlation is somewhat weak, it's the highest in the correlation matrix.\n",
    "\n",
    "This negative correlation means that patients who got their appointments on the same day are less likely to miss."
   ]
  },
  {
   "cell_type": "code",
   "execution_count": 173,
   "id": "f74d7118",
   "metadata": {},
   "outputs": [
    {
     "data": {
      "image/png": "[encoded data removed]",
      "text/plain": [
       "<Figure size 432x288 with 1 Axes>"
      ]
     },
     "metadata": {
      "needs_background": "light"
     },
     "output_type": "display_data"
    }
   ],
   "source": [
    "ax = sns.countplot(x=\"sameday\", hue=\"noshow\", data=df)\n",
    "ax.set(title='Missed Appointments if Scheduled on the Same Day')\n",
    "plt.xticks([0, 1], ['Different', 'Same'])\n",
    "ax.set_xlabel('Schedule Day vs Appointment Day')\n",
    "L=plt.legend()\n",
    "L.get_texts()[0].set_text('Attended')\n",
    "L.get_texts()[1].set_text('Missed')\n",
    "plt.show()"
   ]
  },
  {
   "cell_type": "markdown",
   "id": "07cc23b6",
   "metadata": {},
   "source": [
    "# Research Question 2 Are Patients' Attributes Responsible for the High Rate of No-Shows\n",
    "\n",
    "Now we will investigate ___Age, Gender___ and four medical conditions for the patients"
   ]
  },
  {
   "cell_type": "markdown",
   "id": "1df02bc2",
   "metadata": {},
   "source": [
    "1.  __Age__\n",
    "\n",
    "\n",
    "age is our only numerical variable in the dataset. Let's start by checking its histogram."
   ]
  },
  {
   "cell_type": "code",
   "execution_count": 174,
   "id": "20024f31",
   "metadata": {},
   "outputs": [
    {
     "data": {
      "image/png": "[encoded data removed]",
      "text/plain": [
       "<Figure size 360x360 with 1 Axes>"
      ]
     },
     "metadata": {
      "needs_background": "light"
     },
     "output_type": "display_data"
    }
   ],
   "source": [
    "ax=sns.displot(df, x=\"age\", discrete=True).set(title='Age Histogram', xlabel='Age');"
   ]
  },
  {
   "cell_type": "markdown",
   "id": "3abe10e8",
   "metadata": {},
   "source": [
    "The number of newborn and children up to 4 years is considerably higher, let's investigate further:"
   ]
  },
  {
   "cell_type": "code",
   "execution_count": 175,
   "id": "8ed01921",
   "metadata": {},
   "outputs": [
    {
     "data": {
      "text/plain": [
       "Counter({False: 100285, True: 10242})"
      ]
     },
     "execution_count": 175,
     "metadata": {},
     "output_type": "execute_result"
    }
   ],
   "source": [
    "collections.Counter(df['age']<=4)"
   ]
  },
  {
   "cell_type": "markdown",
   "id": "24ba1ea3",
   "metadata": {},
   "source": [
    "This is age boxplot:"
   ]
  },
  {
   "cell_type": "code",
   "execution_count": 176,
   "id": "2fadbd00",
   "metadata": {},
   "outputs": [
    {
     "data": {
      "image/png": "[encoded data removed]",
      "text/plain": [
       "<Figure size 360x360 with 1 Axes>"
      ]
     },
     "metadata": {
      "needs_background": "light"
     },
     "output_type": "display_data"
    }
   ],
   "source": [
    "sns.catplot(y=\"age\", kind=\"box\", data=df).set(title='Age Box Plot', ylabel='Age');\n",
    "plt.show()"
   ]
  },
  {
   "cell_type": "markdown",
   "id": "8d2361f3",
   "metadata": {},
   "source": [
    "There is almost no correlation between noshow and age."
   ]
  },
  {
   "cell_type": "code",
   "execution_count": 177,
   "id": "26e121e1",
   "metadata": {},
   "outputs": [
    {
     "data": {
      "text/plain": [
       "-0.06032036552755498"
      ]
     },
     "execution_count": 177,
     "metadata": {},
     "output_type": "execute_result"
    }
   ],
   "source": [
    "df['noshow'].corr(df['age'])"
   ]
  },
  {
   "cell_type": "markdown",
   "id": "428f6ca9",
   "metadata": {},
   "source": [
    "We can still comare the age of our two groups:"
   ]
  },
  {
   "cell_type": "code",
   "execution_count": 178,
   "id": "f290d4bf",
   "metadata": {},
   "outputs": [
    {
     "data": {
      "image/png": "[encoded data removed]",
      "text/plain": [
       "<Figure size 360x360 with 1 Axes>"
      ]
     },
     "metadata": {
      "needs_background": "light"
     },
     "output_type": "display_data"
    }
   ],
   "source": [
    "# both histograms on the same plot\n",
    "ax=sns.displot(df, x=\"age\", hue=\"noshow\", multiple=\"stack\", discrete=True, legend=False, palette=\"Set1\").set(title='Age and Missed Appointments', xlabel='Age');\n",
    "plt.legend(labels=[\"Missed\",\"Attended\"])\n",
    "plt.show()"
   ]
  },
  {
   "cell_type": "code",
   "execution_count": 179,
   "id": "ff9ee129",
   "metadata": {},
   "outputs": [
    {
     "data": {
      "image/png": "[encoded data removed]",
      "text/plain": [
       "<Figure size 720x360 with 2 Axes>"
      ]
     },
     "metadata": {
      "needs_background": "light"
     },
     "output_type": "display_data"
    }
   ],
   "source": [
    "# boxplot for each group\n",
    "ax=sns.catplot(y=\"age\", col=\"noshow\",kind=\"box\", data=df);\n",
    "ax.set_axis_labels(\"\", \"Age\")\n",
    "ax.fig.suptitle('Box Plot Age Comparision');"
   ]
  },
  {
   "cell_type": "markdown",
   "id": "5b730f9f",
   "metadata": {},
   "source": [
    "From the above boxplot and the below code, we find that patients who missed their appointments are younger (on average) than those who showed."
   ]
  },
  {
   "cell_type": "code",
   "execution_count": 180,
   "id": "ae308aee",
   "metadata": {},
   "outputs": [
    {
     "data": {
      "text/plain": [
       "[34.31766656212196, 37.79015508797388]"
      ]
     },
     "execution_count": 180,
     "metadata": {},
     "output_type": "execute_result"
    }
   ],
   "source": [
    "[df.age[miss].mean(), df.age[show].mean()]"
   ]
  },
  {
   "cell_type": "markdown",
   "id": "06743e88",
   "metadata": {},
   "source": [
    "2. __Gender__\n",
    "\n",
    "\n",
    "gender takes 0 for females, and 1 for males. Female patients formed 65% of the dataset."
   ]
  },
  {
   "cell_type": "code",
   "execution_count": 181,
   "id": "e92c69f1",
   "metadata": {},
   "outputs": [
    {
     "data": {
      "image/png": "[encoded data removed]",
      "text/plain": [
       "<Figure size 432x288 with 1 Axes>"
      ]
     },
     "metadata": {},
     "output_type": "display_data"
    }
   ],
   "source": [
    "plt.pie(df['gender'].value_counts(), labels = ['Female', 'Male'], colors=['firebrick', 'navy'], \n",
    "        startangle=0, shadow = True, explode = (0, 0.1),\n",
    "        radius = 1.0, autopct = '%1.1f%%')\n",
    "\n",
    "plt.title('Gender', fontweight=\"bold\")\n",
    "\n",
    "plt.show()"
   ]
  },
  {
   "cell_type": "markdown",
   "id": "8adcb857",
   "metadata": {},
   "source": [
    "There is no correlation between noshow and gender"
   ]
  },
  {
   "cell_type": "code",
   "execution_count": 182,
   "id": "2b8f15d1",
   "metadata": {},
   "outputs": [
    {
     "data": {
      "text/plain": [
       "-0.004118633199373496"
      ]
     },
     "execution_count": 182,
     "metadata": {},
     "output_type": "execute_result"
    }
   ],
   "source": [
    "df['noshow'].corr(df['gender'])"
   ]
  },
  {
   "cell_type": "code",
   "execution_count": 183,
   "id": "562b2509",
   "metadata": {},
   "outputs": [
    {
     "data": {
      "image/png": "[encoded data removed]",
      "text/plain": [
       "<Figure size 432x288 with 1 Axes>"
      ]
     },
     "metadata": {
      "needs_background": "light"
     },
     "output_type": "display_data"
    }
   ],
   "source": [
    "ax = sns.countplot(x=\"gender\", hue=\"noshow\", data=df)\n",
    "ax.set(title='Gender and Missed Appointments')\n",
    "plt.xticks([0, 1], ['Female', 'Male'])\n",
    "ax.set_xlabel('Gender')\n",
    "L=plt.legend()\n",
    "L.get_texts()[0].set_text('Attended')\n",
    "L.get_texts()[1].set_text('Missed')\n",
    "plt.show()"
   ]
  },
  {
   "cell_type": "markdown",
   "id": "75418156",
   "metadata": {},
   "source": [
    "Data shows that gender is not a decisive factor in our question."
   ]
  },
  {
   "cell_type": "markdown",
   "id": "2ffd3444",
   "metadata": {},
   "source": [
    "3. __Health Condition__\n",
    "\n",
    "We have four types of health problems in our dataset. Of those, we will examine hipertension and diabetes, based on their prevalence and the correlation matrix."
   ]
  },
  {
   "cell_type": "markdown",
   "id": "af60816b",
   "metadata": {},
   "source": [
    "I. __Hypertension__\n",
    "\n",
    "19.7% of patients had hypertension, but there is no correlation with noshow."
   ]
  },
  {
   "cell_type": "code",
   "execution_count": 184,
   "id": "065f91c1",
   "metadata": {},
   "outputs": [
    {
     "data": {
      "image/png": "[encoded data removed]",
      "text/plain": [
       "<Figure size 432x288 with 1 Axes>"
      ]
     },
     "metadata": {},
     "output_type": "display_data"
    }
   ],
   "source": [
    "plt.pie(df['hipertension'].value_counts(), labels = ['No', 'Yes'], colors=['tan', 'grey'], \n",
    "        startangle=30, shadow = True, explode = (0, 0.1),\n",
    "        radius = 1.0, autopct = '%1.1f%%')\n",
    "  \n",
    "plt.title('Has Hypertension?', fontweight=\"bold\")\n",
    "     \n",
    "plt.show()"
   ]
  },
  {
   "cell_type": "code",
   "execution_count": 185,
   "id": "2060562d",
   "metadata": {},
   "outputs": [
    {
     "data": {
      "text/plain": [
       "-0.03570117734501494"
      ]
     },
     "execution_count": 185,
     "metadata": {},
     "output_type": "execute_result"
    }
   ],
   "source": [
    "df['noshow'].corr(df['hipertension'])"
   ]
  },
  {
   "cell_type": "code",
   "execution_count": 186,
   "id": "adfb7830",
   "metadata": {},
   "outputs": [
    {
     "data": {
      "image/png": "[encoded data removed]",
      "text/plain": [
       "<Figure size 432x288 with 1 Axes>"
      ]
     },
     "metadata": {
      "needs_background": "light"
     },
     "output_type": "display_data"
    }
   ],
   "source": [
    "ax = sns.countplot(x=\"hipertension\", hue=\"noshow\", data=df)\n",
    "ax.set(title='Hypertension and Missed Appointments')\n",
    "plt.xticks([0, 1], ['No Hypertension', 'Has Hypertension'])\n",
    "ax.set_xlabel('Hypertension')\n",
    "L=plt.legend()\n",
    "L.get_texts()[0].set_text('Attended')\n",
    "L.get_texts()[1].set_text('Missed')\n",
    "plt.show()"
   ]
  },
  {
   "cell_type": "markdown",
   "id": "723ccc9d",
   "metadata": {},
   "source": [
    "II. __Diabetes__\n",
    "\n",
    "7.2% of patients had diabetes, but there is no correlation with noshow"
   ]
  },
  {
   "cell_type": "code",
   "execution_count": 187,
   "id": "98400a61",
   "metadata": {},
   "outputs": [
    {
     "data": {
      "image/png": "[encoded data removed]",
      "text/plain": [
       "<Figure size 432x288 with 1 Axes>"
      ]
     },
     "metadata": {},
     "output_type": "display_data"
    }
   ],
   "source": [
    "plt.pie(df['diabetes'].value_counts(), labels = ['No', 'Yes'], colors=['deepskyblue', 'crimson'], \n",
    "        startangle=30, shadow = True, explode = (0, 0.1),\n",
    "        radius = 1.0, autopct = '%1.1f%%')\n",
    "  \n",
    "plt.title('Has Diabetes?', fontweight=\"bold\")\n",
    "     \n",
    "plt.show()"
   ]
  },
  {
   "cell_type": "code",
   "execution_count": 188,
   "id": "850cd306",
   "metadata": {},
   "outputs": [
    {
     "data": {
      "text/plain": [
       "-0.01517994382077371"
      ]
     },
     "execution_count": 188,
     "metadata": {},
     "output_type": "execute_result"
    }
   ],
   "source": [
    "df['noshow'].corr(df['diabetes'])"
   ]
  },
  {
   "cell_type": "code",
   "execution_count": 189,
   "id": "1589bfc0",
   "metadata": {},
   "outputs": [
    {
     "data": {
      "image/png": "[encoded data removed]",
      "text/plain": [
       "<Figure size 432x288 with 1 Axes>"
      ]
     },
     "metadata": {
      "needs_background": "light"
     },
     "output_type": "display_data"
    }
   ],
   "source": [
    "ax = sns.countplot(x=\"diabetes\", hue=\"noshow\", data=df)\n",
    "ax.set(title='Diabetes and Missed Appointments')\n",
    "plt.xticks([0, 1], ['No Diabetes', 'Has Diabetes'])\n",
    "ax.set_xlabel('Diabetes')\n",
    "L=plt.legend()\n",
    "L.get_texts()[0].set_text('Attended')\n",
    "L.get_texts()[1].set_text('Missed')\n",
    "plt.show()"
   ]
  },
  {
   "cell_type": "code",
   "execution_count": 190,
   "id": "26a53f2a",
   "metadata": {},
   "outputs": [
    {
     "data": {
      "image/png": "[encoded data removed]",
      "text/plain": [
       "<Figure size 720x360 with 2 Axes>"
      ]
     },
     "metadata": {
      "needs_background": "light"
     },
     "output_type": "display_data"
    }
   ],
   "source": [
    "ax = sns.catplot(x=\"diabetes\", hue=\"noshow\", col=\"hipertension\", kind=\"count\", data=df, legend=False)\n",
    "ax.set_axis_labels(\"Diabetes\", \"count\")\n",
    "plt.xticks([0, 1], ['No Diabetes', 'Has Diabetes'])\n",
    "L=plt.legend()\n",
    "L.get_texts()[0].set_text('Attended')\n",
    "L.get_texts()[1].set_text('Missed')\n",
    "ax.fig.suptitle('Diabetes with Hypertension');"
   ]
  },
  {
   "cell_type": "markdown",
   "id": "734a9aae",
   "metadata": {},
   "source": [
    "Actually, if a patient suffer from both illnesses, he much less likely to miss the appointment."
   ]
  },
  {
   "cell_type": "markdown",
   "id": "cb05f351",
   "metadata": {},
   "source": [
    "# conclusion"
   ]
  },
  {
   "cell_type": "markdown",
   "id": "7c39c075",
   "metadata": {},
   "source": [
    "Results\n",
    ">This report examined a dataset of Brazilian patients, trying to figure out what are the factors that correlates with missing appointments.\n",
    "\n",
    ">It found that the most important factor was whether the patient got his appointment at the same day of booking. This factor was negatively correlated with no_show cases, meaning that there were less no_shows when the patient was scheduled on the same day.\n",
    "\n",
    ">Regarding the system, the report found that sending SMS notifications didn't help. In fact, it was weakly positively correlated with no_show cases. Implying that those who received an SMS were slightly more likely to miss. Receiving benefits from Bolsa Família didn't seem to correlate with no_show cases.\n",
    "\n",
    ">Personal attributes didn't seem to correlate with no_shows. Except that patients who missed their appointments were younger in general of those who didn't. It is also noted that having multiple illnesses seems to correlate with less no_shows."
   ]
  },
  {
   "cell_type": "markdown",
   "id": "947fe11c",
   "metadata": {},
   "source": [
    "Limitations\n",
    ">Most columns in the dataset are binary variables (categorical variables that take only two values), including the dependent variable noshow. This limits the statistical methods that can be used to analyze the data.\n",
    "\n",
    ">Some results were counter-intuitive, The analysis found that there is a slight higher chance of no_show for those who received an SMS. The nature of the data prevents further investigation.\n",
    "\n",
    ">It's important to note that this analysis focus is on the correlation between the variables. This is not enough to assume there is a causal relation between them. Further studies using inferential statistics is required for that. Also, most correlations were weak due to the categorical nature of the variables."
   ]
  },
  {
   "cell_type": "code",
   "execution_count": null,
   "id": "d0d603ef",
   "metadata": {},
   "outputs": [],
   "source": []
  },
  {
   "cell_type": "code",
   "execution_count": null,
   "id": "90cede9f",
   "metadata": {},
   "outputs": [],
   "source": []
  }
 ],
 "metadata": {
  "kernelspec": {
   "display_name": "Python 3 (ipykernel)",
   "language": "python",
   "name": "python3"
  },
  "language_info": {
   "codemirror_mode": {
    "name": "ipython",
    "version": 3
   },
   "file_extension": ".py",
   "mimetype": "text/x-python",
   "name": "python",
   "nbconvert_exporter": "python",
   "pygments_lexer": "ipython3",
   "version": "3.9.12"
  }
 },
 "nbformat": 4,
 "nbformat_minor": 5
}
